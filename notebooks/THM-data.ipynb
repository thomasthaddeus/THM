{
 "cells": [
  {
   "cell_type": "markdown",
   "metadata": {},
   "source": [
    "# Week 3: Python and Pandas"
   ]
  },
  {
   "cell_type": "markdown",
   "metadata": {},
   "source": [
    "## Setup\n",
    "\n",
    "To create a virtual environment and install the necessary packages, you can follow these steps"
   ]
  },
  {
   "cell_type": "markdown",
   "metadata": {},
   "source": [
    "### 1. **Create a Virtual Environment**\n",
    "\n",
    "A virtual environment is an isolated environment where you can install packages without affecting your global Python installation. You can create a virtual environment using `venv` (which is included in standard Python installations).\n",
    "\n",
    "Here is how to create a virtual environment. In your terminal, navigate to your project directory and run:\n"
   ]
  },
  {
   "cell_type": "code",
   "execution_count": null,
   "metadata": {
    "vscode": {
     "languageId": "shellscript"
    }
   },
   "outputs": [],
   "source": [
    "python3 -m venv .venv"
   ]
  },
  {
   "cell_type": "markdown",
   "metadata": {},
   "source": [
    "This will create a new directory named `.venv` in your project directory."
   ]
  },
  {
   "cell_type": "markdown",
   "metadata": {},
   "source": [
    "### 2. **Activate the Virtual Environment**\n",
    "\n",
    "Before you can use the virtual environment, you need to activate it. The command to activate the virtual environment depends on your operating system"
   ]
  },
  {
   "cell_type": "markdown",
   "metadata": {},
   "source": [
    "#### On macOS and Linux"
   ]
  },
  {
   "cell_type": "code",
   "execution_count": null,
   "metadata": {
    "vscode": {
     "languageId": "shellscript"
    }
   },
   "outputs": [],
   "source": [
    "source venv/bin/activate"
   ]
  },
  {
   "cell_type": "markdown",
   "metadata": {},
   "source": [
    "#### On Windows"
   ]
  },
  {
   "cell_type": "code",
   "execution_count": null,
   "metadata": {
    "vscode": {
     "languageId": "shellscript"
    }
   },
   "outputs": [],
   "source": [
    ".\\venv\\Scripts\\activate"
   ]
  },
  {
   "cell_type": "markdown",
   "metadata": {},
   "source": [
    "Once the virtual environment is activated, your terminal prompt will change to show the name of the virtual environment.\n",
    "\n",
    "Any packages you install while the virtual environment is activated will be installed in the virtual environment, not in your global Python installation."
   ]
  },
  {
   "cell_type": "markdown",
   "metadata": {},
   "source": [
    "### 3. **Install Packages**\n",
    "\n",
    "Now, you can install the necessary packages using `pip`."
   ]
  },
  {
   "cell_type": "code",
   "execution_count": null,
   "metadata": {
    "vscode": {
     "languageId": "shellscript"
    }
   },
   "outputs": [],
   "source": [
    "pip install pandas numpy matplotlib seaborn scipy statsmodels nltk sklearn textblob pyLDAvis json base64 worldcloud scikit-learn"
   ]
  },
  {
   "cell_type": "markdown",
   "metadata": {},
   "source": [
    "### 4. **Save Requirements**\n",
    "\n",
    "If you want to save the list of packages and their versions to a file (so you can install them later or on another machine), you can use `pip freeze`"
   ]
  },
  {
   "cell_type": "code",
   "execution_count": null,
   "metadata": {
    "vscode": {
     "languageId": "shellscript"
    }
   },
   "outputs": [],
   "source": [
    "pip freeze > requirements.txt"
   ]
  },
  {
   "cell_type": "markdown",
   "metadata": {},
   "source": [
    "This will create a file named `requirements.txt` with a list of the installed packages and their versions.\n",
    "\n",
    "In the future, if you want to install the packages from the `requirements.txt` file, you can run"
   ]
  },
  {
   "cell_type": "code",
   "execution_count": null,
   "metadata": {
    "vscode": {
     "languageId": "shellscript"
    }
   },
   "outputs": [],
   "source": [
    "pip install -r requirements.txt"
   ]
  },
  {
   "cell_type": "markdown",
   "metadata": {},
   "source": [
    "### 5. **Deactivate the Virtual Environment**\n",
    "\n",
    "When you're done using the virtual environment, you can deactivate it:"
   ]
  },
  {
   "cell_type": "code",
   "execution_count": null,
   "metadata": {
    "vscode": {
     "languageId": "shellscript"
    }
   },
   "outputs": [],
   "source": [
    "#deactivate"
   ]
  },
  {
   "cell_type": "markdown",
   "metadata": {},
   "source": [
    "This will return you to your global Python environment.\n"
   ]
  },
  {
   "cell_type": "markdown",
   "metadata": {},
   "source": [
    "---"
   ]
  },
  {
   "cell_type": "markdown",
   "metadata": {},
   "source": [
    "# Pandas\n"
   ]
  },
  {
   "cell_type": "markdown",
   "metadata": {},
   "source": [
    "Before we begin, let's understand the structure of the data we are dealing with. First, we'll import the necessary libraries and load the data. Then, we'll take a quick look at the first few rows of the data and its overall structure.\n"
   ]
  },
  {
   "cell_type": "code",
   "execution_count": 10,
   "metadata": {},
   "outputs": [],
   "source": [
    "# Import necessary libraries\n",
    "import pandas as pd\n",
    "import numpy as np\n",
    "import base64\n",
    "import matplotlib.pyplot as plt\n",
    "import seaborn as sns\n",
    "import json\n",
    "from wordcloud import WordCloud\n",
    "import nltk\n",
    "from nltk.corpus import stopwords\n",
    "import re\n",
    "from textblob import TextBlob\n",
    "import pyLDAvis\n",
    "import pyLDAvis.sklearn\n",
    "from statsmodels.tsa.seasonal import seasonal_decompose\n",
    "from sklearn.feature_extraction.text import CountVectorizer, TfidfVectorizer\n",
    "from sklearn.decomposition import LatentDirichletAllocation\n"
   ]
  },
  {
   "cell_type": "code",
   "execution_count": null,
   "metadata": {},
   "outputs": [],
   "source": [
    "# Load the data\n",
    "data = pd.read_csv(\"D:/tryhackme_urls.csv\")\n",
    "\n",
    "# Display the first few rows of the data\n",
    "print(data.head())\n",
    "\n",
    "# Display the information of the data\n",
    "print(data.info())"
   ]
  },
  {
   "cell_type": "markdown",
   "metadata": {},
   "source": [
    "## Part 1: Data Cleaning\n",
    "\n",
    "In this section, we will perform data cleaning. This may involve:\n",
    "\n",
    "1. Checking for missing values and deciding what to do with them (i.e., fill them with some value, drop them, etc.).\n",
    "2. Checking for duplicate values and deciding what to do with them.\n",
    "3. Checking if the data types of each column make sense and converting them if necessary.\n",
    "4. Checking for any inconsistencies in the data (e.g., values that don't make sense in the context of the data).\n",
    "\n",
    "```python\n",
    "# Check for missing values\n",
    "print(data.isnull().sum())\n",
    "\n",
    "# Check for duplicates\n",
    "print(data.duplicated().sum())\n",
    "\n",
    "# Check the data types of each column\n",
    "print(data.dtypes)\n",
    "```\n"
   ]
  },
  {
   "cell_type": "code",
   "execution_count": null,
   "metadata": {},
   "outputs": [],
   "source": [
    "# Drop columns with all missing values\n",
    "data_cleaned = data.dropna(axis=1, how=\"all\")\n",
    "\n",
    "# Convert 'Time' column to datetime\n",
    "data_cleaned[\"Time\"] = pd.to_datetime(data_cleaned[\"Time\"])\n",
    "\n",
    "# Display the first few decoded responses\n",
    "print(data_cleaned[\"Response\"].head())"
   ]
  },
  {
   "cell_type": "code",
   "execution_count": null,
   "metadata": {},
   "outputs": [],
   "source": [
    "# Decode 'Response' column from Base64\n",
    "data_cleaned[\"Response\"] = data_cleaned[\"Response\"].apply(\n",
    "    lambda x: base64.b64decode(x).decode(\"utf-8\")\n",
    ")\n",
    "\n",
    "# Remove HTTP headers from 'Response' column\n",
    "data_cleaned[\"Response\"] = data_cleaned[\"Response\"].apply(\n",
    "    lambda x: x.split(\"\\r\\n\\r\\n\", 1)[1]\n",
    ")"
   ]
  },
  {
   "cell_type": "markdown",
   "metadata": {},
   "source": [
    "The output will guide the next steps. For example, if there are missing values, we might choose to fill them with the median or mode of the column, or drop them if they are not significant. If there are duplicates, we might want to drop them to avoid redundancy. If some columns are not of the expected data type, we might want to convert them.\n"
   ]
  },
  {
   "cell_type": "markdown",
   "metadata": {},
   "source": [
    "## Part 2: Data Sorting\n",
    "\n",
    "In this section, we will sort the data based on certain criteria. This can help in understanding the data better and making specific analyses easier. We will use the `sort_values()` function from pandas.\n",
    "\n",
    "```python\n",
    "# Sort the data based on a column\n",
    "# Replace 'column_name' with the column you want to sort by\n",
    "data_sorted = data.sort_values('column_name')\n",
    "\n",
    "# Display the first few rows of the sorted data\n",
    "print(data_sorted.head())\n",
    "```\n"
   ]
  },
  {
   "cell_type": "code",
   "execution_count": null,
   "metadata": {},
   "outputs": [],
   "source": [
    "# Sort data by 'Time'\n",
    "data_sorted = data_cleaned.sort_values(\"Time\")"
   ]
  },
  {
   "cell_type": "markdown",
   "metadata": {},
   "source": [
    "# Part 3: Data Analysis\n",
    "\n",
    "In this section, we will analyze the data to gain insights. This can involve computing descriptive statistics, performing aggregations, and making comparisons. The exact analysis will depend on the context of the data and the questions we are trying to answer.\n",
    "\n",
    "```python\n",
    "# Compute descriptive statistics\n",
    "print(data.describe())\n",
    "\n",
    "# Perform aggregations\n",
    "# Replace 'column_name1' and 'column_name2' with the columns you want to aggregate by\n",
    "aggregated_data = data.groupby('column_name1')['column_name2'].agg([np.mean, np.std])\n",
    "\n",
    "# Display the aggregated data\n",
    "print(aggregated_data)\n",
    "```\n"
   ]
  },
  {
   "cell_type": "code",
   "execution_count": 13,
   "metadata": {},
   "outputs": [
    {
     "name": "stdout",
     "output_type": "stream",
     "text": [
      "0.9160619802980209\n"
     ]
    }
   ],
   "source": [
    "# Parse 'Response' column into a new DataFrame\n",
    "response_data = pd.json_normalize(data_cleaned[\"Response\"].apply(json.loads))\n",
    "\n",
    "# Extract 'rooms' data into a new DataFrame\n",
    "rooms_list = response_data[\"rooms\"].explode().tolist()\n",
    "data = pd.json_normalize(rooms_list)\n",
    "\n",
    "# Compute correlation between 'users' and 'upVotes'\n",
    "correlation = data[\"users\"].corr(data[\"upVotes\"])\n",
    "print(correlation)"
   ]
  },
  {
   "cell_type": "markdown",
   "metadata": {},
   "source": [
    "# Part 4: Data Presentation\n",
    "\n",
    "Finally, in this section, we will create visualizations to present the data and our findings. We will use seaborn or matplotlib for this.\n"
   ]
  },
  {
   "cell_type": "code",
   "execution_count": null,
   "metadata": {},
   "outputs": [],
   "source": [
    "# Create a histogram\n",
    "# Replace 'column_name' with the column you want to plot\n",
    "sns.histplot(data[\"column_name\"])\n",
    "plt.show()\n",
    "\n",
    "# Create a bar plot\n",
    "# Replace 'column_name1' and 'column_name2' with the columns you want to plot\n",
    "sns.barplot(x=\"column_name1\", y=\"column_name2\", data=data)\n",
    "plt.show()"
   ]
  },
  {
   "cell_type": "markdown",
   "metadata": {},
   "source": [
    "This script performs the following steps:\n",
    "\n",
    "1. Imports the necessary libraries.\n",
    "2. Loads the data from the CSV file.\n",
    "3. Cleans the data by dropping columns with all missing values, converting the 'Time' column to datetime, decoding the 'Response' column from Base64, and removing the HTTP headers from the 'Response' column.\n",
    "4. Sorts the data by 'Time'.\n",
    "5. Parses the 'Response' column into a new DataFrame and then extracts the 'rooms' data into another new DataFrame.\n",
    "6. Computes the correlation between 'users' and 'upVotes' in the rooms data.\n",
    "7. Creates a scatter plot of 'users' vs 'upVotes' to visualize the correlation.\n"
   ]
  },
  {
   "cell_type": "markdown",
   "metadata": {},
   "source": [
    "## Part 5: More Visualizations\n"
   ]
  },
  {
   "cell_type": "code",
   "execution_count": null,
   "metadata": {},
   "outputs": [],
   "source": [
    "# Set the theme for seaborn\n",
    "sns.set_theme()\n",
    "\n",
    "# 1. Histogram of 'difficulty'\n",
    "plt.figure(figsize=(10, 6))\n",
    "sns.histplot(data=data, x=\"difficulty\", palette=\"viridis\")\n",
    "plt.title(\"Distribution of Room Difficulties\")\n",
    "plt.show()"
   ]
  },
  {
   "cell_type": "markdown",
   "metadata": {},
   "source": [
    "### 2. Bar Plot of `type`\n"
   ]
  },
  {
   "cell_type": "code",
   "execution_count": null,
   "metadata": {},
   "outputs": [],
   "source": [
    "plt.figure(figsize=(10, 6))\n",
    "sns.countplot(data=data, x=\"type\", palette=\"viridis\")\n",
    "plt.title(\"Frequency of Room Types\")\n",
    "plt.show()"
   ]
  },
  {
   "cell_type": "markdown",
   "metadata": {},
   "source": [
    "### 3. Time Series Plot of `created`\n"
   ]
  },
  {
   "cell_type": "code",
   "execution_count": null,
   "metadata": {},
   "outputs": [],
   "source": [
    "# First, convert 'created' to datetime\n",
    "data[\"created\"] = pd.to_datetime(data[\"created\"])\n",
    "\n",
    "plt.figure(figsize=(10, 6))\n",
    "data.resample(\"M\", on=\"created\").size().plot()\n",
    "plt.title(\"Number of Rooms Created Over Time\")\n",
    "plt.xlabel(\"Time\")\n",
    "plt.ylabel(\"Number of Rooms\")\n",
    "plt.show()"
   ]
  },
  {
   "cell_type": "markdown",
   "metadata": {},
   "source": [
    "### 4. Word Cloud of `tags`\n"
   ]
  },
  {
   "cell_type": "code",
   "execution_count": null,
   "metadata": {},
   "outputs": [],
   "source": [
    "# Flatten the list of tags and convert to string\n",
    "tags_str = \" \".join([tag for sublist in data[\"tags\"].tolist() for tag in sublist])\n",
    "\n",
    "wordcloud = WordCloud(background_color=\"white\").generate(tags_str)\n",
    "\n",
    "plt.figure(figsize=(10, 6))\n",
    "plt.imshow(wordcloud, interpolation=\"bilinear\")\n",
    "plt.axis(\"off\")\n",
    "plt.show()"
   ]
  },
  {
   "cell_type": "markdown",
   "metadata": {},
   "source": [
    "### 5. Correlation Heatmap\n"
   ]
  },
  {
   "cell_type": "code",
   "execution_count": null,
   "metadata": {},
   "outputs": [],
   "source": [
    "numeric_cols = data.select_dtypes(include=np.number)\n",
    "correlation_matrix = numeric_cols.corr()\n",
    "\n",
    "plt.figure(figsize=(10, 6))\n",
    "sns.heatmap(correlation_matrix, annot=True, cmap=\"coolwarm\")\n",
    "plt.title(\"Correlation Heatmap\")\n",
    "plt.show()"
   ]
  },
  {
   "cell_type": "markdown",
   "metadata": {},
   "source": [
    "### 6. Boxplot of 'upVotes' by 'difficulty'\n"
   ]
  },
  {
   "cell_type": "code",
   "execution_count": null,
   "metadata": {},
   "outputs": [],
   "source": [
    "plt.figure(figsize=(10, 6))\n",
    "sns.boxplot(data=data, x=\"difficulty\", y=\"upVotes\", palette=\"viridis\")\n",
    "plt.title(\"Distribution of UpVotes by Difficulty\")\n",
    "plt.show()"
   ]
  },
  {
   "cell_type": "markdown",
   "metadata": {},
   "source": [
    "# Further Analysis\n"
   ]
  },
  {
   "cell_type": "markdown",
   "metadata": {},
   "source": [
    "There are several more advanced analyses you can perform on this data, based on what questions you're trying to answer or what insights you're trying to glean. Here are a few ideas:\n",
    "\n",
    "1. **Topic Modeling on `description`**: If you have a large number of rooms, you might want to automatically group them into topics based on their descriptions. You can do this using techniques like **Latent Dirichlet Allocation** (LDA) or Non-negative Matrix Factorization (NMF).\n",
    "2. **Sentiment Analysis on** 'description': You could use a sentiment analysis model to assign a sentiment score to each room based on its description. This could give you an idea of how positively or negatively the room is described.\n",
    "3. **Text Analysis on `tags`**: You could analyze the tags to find the most common ones, or find tags that often appear together.\n",
    "4. **Time Series Analysis**: You could perform more advanced time series analysis on the 'created' column. For example, you could look for trends or seasonality, or forecast future room creation.\n",
    "5. **Statistical Testing**: If you have hypotheses about the data, you could use statistical tests to test them. For example, you might hypothesize that certain types of rooms get more upvotes, and use a t-test to test this.\n",
    "6. **Machine Learning**: You could use machine learning techniques to predict certain variables based on others. For example, you could predict the 'upVotes' based on 'users', 'difficulty', 'type', etc.\n",
    "7. **Network Analysis**: If there's a connection between rooms (for example, if they're created by the same users or share tags), you could represent the rooms as a network and perform network analysis.\n"
   ]
  },
  {
   "cell_type": "markdown",
   "metadata": {},
   "source": [
    "## 3a: Text Analysis on tags\n",
    "\n",
    "1. Most Common Tags: We can use Python's collections.Counter to find the most common tags.\n",
    "2. Tags That Often Appear Together: We can use itertools.combinations to find pairs of tags that often appear together.\n"
   ]
  },
  {
   "cell_type": "code",
   "execution_count": 14,
   "metadata": {},
   "outputs": [
    {
     "name": "stdout",
     "output_type": "stream",
     "text": [
      "[('security', 322), ('linux', 79), ('web', 66), ('windows', 59), ('ctf', 35), ('enumeration', 35), ('privesc', 32), ('beginner', 28), ('challenge', 27), ('forensics', 24)]\n",
      "[(('security', 'linux'), 31), (('security', 'web'), 28), (('security', 'windows'), 19), (('security', 'blue team'), 18), (('security', 'forensics'), 16), (('security', 'enumeration'), 14), (('web', 'linux'), 13), (('security', 'boot2root'), 12), (('security', 'aws'), 12), (('security', 'nmap'), 11)]\n"
     ]
    }
   ],
   "source": [
    "from collections import Counter\n",
    "from itertools import combinations\n",
    "\n",
    "# Flatten the list of tags\n",
    "tags = [tag for sublist in data[\"tags\"].tolist() for tag in sublist]\n",
    "\n",
    "# Compute the most common tags\n",
    "tag_counter = Counter(tags)\n",
    "most_common_tags = tag_counter.most_common(10)\n",
    "\n",
    "# Compute pairs of tags that often appear together\n",
    "tag_pairs_counter = Counter()\n",
    "for tag_list in data[\"tags\"]:\n",
    "    tag_pairs_counter.update(combinations(tag_list, 2))\n",
    "most_common_tag_pairs = tag_pairs_counter.most_common(10)\n",
    "\n",
    "print(most_common_tags)\n",
    "print(most_common_tag_pairs)\n"
   ]
  },
  {
   "cell_type": "markdown",
   "metadata": {},
   "source": [
    "## 3b: Visualizing text analysis\n"
   ]
  },
  {
   "cell_type": "code",
   "execution_count": 18,
   "metadata": {},
   "outputs": [
    {
     "data": {
      "image/png": "[encoded data removed]",
      "text/plain": [
       "<Figure size 1000x500 with 1 Axes>"
      ]
     },
     "metadata": {},
     "output_type": "display_data"
    },
    {
     "data": {
      "image/png": "[encoded data removed]",
      "text/plain": [
       "<Figure size 1000x500 with 1 Axes>"
      ]
     },
     "metadata": {},
     "output_type": "display_data"
    }
   ],
   "source": [
    "# Compute the most common tags\n",
    "tag_counter = Counter(tags)\n",
    "most_common_tags = dict(tag_counter.most_common(10))\n",
    "\n",
    "# Plot the most common tags using matplotlib\n",
    "plt.figure(figsize=(10, 5))\n",
    "plt.barh(*zip(*enumerate(most_common_tags.values())), align=\"center\", color=\"skyblue\")\n",
    "plt.yticks(*zip(*enumerate(most_common_tags.keys())))\n",
    "plt.gca().invert_yaxis()  # labels read top-to-bottom\n",
    "plt.xlabel(\"Frequency\")\n",
    "plt.title(\"Top 10 Most Common Tags\")\n",
    "plt.show()\n",
    "\n",
    "# Compute pairs of tags that often appear together\n",
    "tag_pairs_counter = Counter()\n",
    "for tag_list in data[\"tags\"]:\n",
    "    tag_pairs_counter.update(combinations(tag_list, 2))\n",
    "most_common_tag_pairs = dict(tag_pairs_counter.most_common(10))\n",
    "\n",
    "# Plot the most common tag pairs using matplotlib\n",
    "plt.figure(figsize=(10, 5))\n",
    "plt.barh(\n",
    "    *zip(*enumerate(most_common_tag_pairs.values())), align=\"center\", color=\"skyblue\"\n",
    ")\n",
    "plt.yticks(*zip(*enumerate([\", \".join(pair) for pair in most_common_tag_pairs.keys()])))\n",
    "plt.gca().invert_yaxis()  # labels read top-to-bottom\n",
    "plt.xlabel(\"Frequency\")\n",
    "plt.title(\"Top 10 Most Common Tag Pairs\")\n",
    "plt.show()\n"
   ]
  },
  {
   "cell_type": "markdown",
   "metadata": {},
   "source": [
    "#### Seaborn\n"
   ]
  },
  {
   "cell_type": "code",
   "execution_count": 17,
   "metadata": {},
   "outputs": [
    {
     "data": {
      "image/png": "[encoded data removed]",
      "text/plain": [
       "<Figure size 1000x500 with 1 Axes>"
      ]
     },
     "metadata": {},
     "output_type": "display_data"
    },
    {
     "data": {
      "image/png": "[encoded data removed]",
      "text/plain": [
       "<Figure size 1000x500 with 1 Axes>"
      ]
     },
     "metadata": {},
     "output_type": "display_data"
    }
   ],
   "source": [
    "# Plot the most common tags using seaborn\n",
    "plt.figure(figsize=(10, 5))\n",
    "sns.barplot(\n",
    "    x=list(most_common_tags.values()), y=list(most_common_tags.keys()), color=\"skyblue\"\n",
    ")\n",
    "plt.xlabel(\"Frequency\")\n",
    "plt.title(\"Top 10 Most Common Tags\")\n",
    "plt.show()\n",
    "\n",
    "# Plot the most common tag pairs using seaborn\n",
    "plt.figure(figsize=(10, 5))\n",
    "sns.barplot(\n",
    "    x=list(most_common_tag_pairs.values()),\n",
    "    y=[\", \".join(pair) for pair in most_common_tag_pairs.keys()],\n",
    "    color=\"skyblue\",\n",
    ")\n",
    "plt.xlabel(\"Frequency\")\n",
    "plt.title(\"Top 10 Most Common Tag Pairs\")\n",
    "plt.show()\n"
   ]
  },
  {
   "cell_type": "markdown",
   "metadata": {},
   "source": [
    "## 4: Time Series Analysis"
   ]
  },
  {
   "cell_type": "markdown",
   "metadata": {},
   "source": [
    "Let's start by converting the 'created' column to datetime format and setting it as the DataFrame's index, which is a common practice in time series analysis"
   ]
  },
  {
   "cell_type": "code",
   "execution_count": null,
   "metadata": {},
   "outputs": [],
   "source": [
    "# Convert 'created' to datetime and set as index\n",
    "data['created'] = pd.to_datetime(data['created'])\n",
    "data.set_index('created', inplace=True)\n"
   ]
  },
  {
   "cell_type": "markdown",
   "metadata": {},
   "source": [
    "Once we have a datetime index, we can resample the data at different frequencies.\n",
    "\n",
    "For example, we can resample the data monthly and compute the number of rooms created each month"
   ]
  },
  {
   "cell_type": "code",
   "execution_count": null,
   "metadata": {},
   "outputs": [],
   "source": [
    "# Resample the data monthly and compute the number of rooms created each month\n",
    "monthly_rooms = data.resample('M').size()\n",
    "\n",
    "# Plot the number of rooms created over time\n",
    "monthly_rooms.plot(figsize=(10, 6))\n",
    "plt.title('Number of Rooms Created Over Time (Monthly)')\n",
    "plt.ylabel('Number of Rooms')\n",
    "plt.show()\n"
   ]
  },
  {
   "cell_type": "markdown",
   "metadata": {},
   "source": [
    "We can also look for trends or seasonality in the number of rooms created over time. This could be done using decomposition methods like the one provided by the `statsmodels` library\n",
    "\n",
    "This will generate a plot with four subplots\n",
    "\n",
    "1. `observed` (the original time series)\n",
    "2. `trend` (the trend component)\n",
    "3. `seasonal` (the seasonal component)\n",
    "4. `residual` (the residual component)"
   ]
  },
  {
   "cell_type": "code",
   "execution_count": null,
   "metadata": {},
   "outputs": [],
   "source": [
    "# Decompose the time series into trend, seasonal, and residual components\n",
    "decomposition = seasonal_decompose(monthly_rooms)\n",
    "\n",
    "# Plot the decomposed time series\n",
    "decomposition.plot()\n",
    "plt.show()\n"
   ]
  },
  {
   "cell_type": "markdown",
   "metadata": {},
   "source": [
    "## Topic Modeling"
   ]
  },
  {
   "cell_type": "markdown",
   "metadata": {},
   "source": [
    "Background: Topic modeling is a type of statistical modeling for discovering the abstract \"topics\" that occur in a collection of documents. Latent Dirichlet Allocation (LDA) is an example of topic model and is used to classify text in a document to a particular topic. It builds a topic per document model and words per topic model, modeled as Dirichlet distributions.\n",
    "\n",
    "### LDA for topic modeling in Python"
   ]
  },
  {
   "cell_type": "markdown",
   "metadata": {},
   "source": [
    "### 1. **Data Cleaning**\n",
    "\n",
    "To prepare the data, we need to clean it first. \n",
    "This involves:\n",
    "- removing punctuation\n",
    "- lowercasing the words\n",
    "- removing stopwords\n",
    "  - common words that don't carry much information\n",
    "  - EX: '`the`', '`a`', '`in`', etc. (all articles)"
   ]
  },
  {
   "cell_type": "code",
   "execution_count": null,
   "metadata": {},
   "outputs": [],
   "source": [
    "nltk.download('stopwords')\n",
    "stop_words = stopwords.words('english')\n",
    "\n",
    "# Function to clean text\n",
    "def clean_text(text):\n",
    "    text = text.lower()  # Convert to lowercase\n",
    "    text = re.sub(r'\\|', ' ', text)  # Replace | with space\n",
    "    text = re.sub(r'\\s+', ' ', text)  # Replace multiple spaces with one space\n",
    "    text = re.sub(r'\\b\\w{1,2}\\b', '', text)  # Remove words with 2 or fewer letters\n",
    "    text = re.sub(r'[^a-z ]', '', text)  # Remove anything that's not a letter or a space\n",
    "    return text\n",
    "\n",
    "# Clean the 'description' column\n",
    "data['description_clean'] = data['description'].apply(clean_text)\n"
   ]
  },
  {
   "cell_type": "markdown",
   "metadata": {},
   "source": [
    "### 2. **Feature Extraction**\n",
    "\n",
    "Next, we transform the text into a form that can be used in our LDA model. We'll use `CountVectorizer` from `sklearn` to create a document-term matrix. We'll exclude common English stop words as they do not provide any valuable information about the topics."
   ]
  },
  {
   "cell_type": "code",
   "execution_count": null,
   "metadata": {},
   "outputs": [],
   "source": [
    "# Initialize CountVectorizer\n",
    "vectorizer = CountVectorizer(stop_words='english', max_features=1000)\n",
    "\n",
    "# Fit and transform the cleaned descriptions\n",
    "X = vectorizer.fit_transform(data['description_clean'])\n",
    "\n",
    "# Get the feature names (words)\n",
    "words = vectorizer.get_feature_names_out()\n"
   ]
  },
  {
   "cell_type": "markdown",
   "metadata": {},
   "source": [
    "### 3. **Model Training**\n",
    "\n",
    "We'll use `LatentDirichletAllocation` from `sklearn` to perform the LDA. "
   ]
  },
  {
   "cell_type": "code",
   "execution_count": null,
   "metadata": {},
   "outputs": [],
   "source": [
    "# Number of topics\n",
    "n_topics = 10\n",
    "\n",
    "# Initialize LDA\n",
    "lda = LatentDirichletAllocation(n_components=n_topics, random_state=0)\n",
    "\n",
    "# Fit the model\n",
    "lda.fit(X)\n"
   ]
  },
  {
   "cell_type": "markdown",
   "metadata": {},
   "source": [
    "### 4. **Inspect Topics**\n",
    "\n",
    "Finally, we'll print out the top words for each topic to get an idea of what each topic represents."
   ]
  },
  {
   "cell_type": "code",
   "execution_count": null,
   "metadata": {},
   "outputs": [],
   "source": [
    "# Function to print the top words for each topic\n",
    "def print_top_words(model, feature_names, n_top_words):\n",
    "    for topic_idx, topic in enumerate(model.components_):\n",
    "        message = \"Topic #%d: \" % topic_idx\n",
    "        message += \" \".join([feature_names[i] for i in topic.argsort()[:-n_top_words - 1:-1]])\n",
    "        print(message)\n",
    "\n",
    "# Print the top words for each topic\n",
    "print_top_words(lda, words, 10)\n"
   ]
  },
  {
   "cell_type": "markdown",
   "metadata": {},
   "source": [
    "### 1. **TF-IDF Instead of Raw Counts**\n",
    "\n",
    "TF-IDF stands for \"**Term Frequency-Inverse Document Frequency**\". It's a way to score the importance of words (or \"terms\") in a document based on how frequently they appear across multiple documents. If a word appears frequently in a document, it's important. If a word appears in many documents, it's not a unique identifier, so it's not that important. So, the importance increases with the number of times a word appears in a document and decreases with the number of documents that contain the word. Here's how to use it:"
   ]
  },
  {
   "cell_type": "code",
   "execution_count": null,
   "metadata": {},
   "outputs": [],
   "source": [
    "# Initialize TfidfVectorizer\n",
    "vectorizer = TfidfVectorizer(stop_words='english', max_features=1000)\n",
    "\n",
    "# Fit and transform the cleaned descriptions\n",
    "X = vectorizer.fit_transform(data['description_clean'])\n",
    "\n",
    "# Get the feature names (words)\n",
    "words = vectorizer.get_feature_names_out()\n"
   ]
  },
  {
   "cell_type": "markdown",
   "metadata": {},
   "source": [
    "### 2. **Different Numbers of Topics**\n",
    "\n",
    "The number of topics you choose for LDA is somewhat arbitrary and depends on your specific use case. A good way to choose the number of topics is to fit LDA with different numbers of topics and see which one gives the highest log-likelihood or other metric of fit. You could do this in a loop or grid search.\n",
    "\n",
    "### 3. **More Advanced Cleaning and Tokenization**\n",
    "\n",
    "NLTK and SpaCy are two libraries that provide more advanced options for cleaning and tokenization. For example, you could `lemmatize` the words (reduce them to their root form), remove proper nouns, or use a custom list of stopwords.\n",
    "\n",
    "### 4. **Using n-grams**\n",
    "\n",
    "n-grams are contiguous sequences of n words. For example, in the sentence \"I love data science\", the 2-grams (or \"bigrams\") are \"I love\", \"love data\", and \"data science\". Using n-grams instead of individual words can sometimes improve the performance of a text model, because it can capture phrases that have a specific meaning."
   ]
  },
  {
   "cell_type": "code",
   "execution_count": null,
   "metadata": {},
   "outputs": [],
   "source": [
    "# Initialize TfidfVectorizer with n-grams\n",
    "vectorizer = TfidfVectorizer(stop_words='english', max_features=1000, ngram_range=(1, 2))\n",
    "\n",
    "# Fit and transform the cleaned descriptions\n",
    "X = vectorizer.fit_transform(data['description_clean'])\n",
    "\n",
    "# Get the feature names (words)\n",
    "words = vectorizer.get_feature_names_out()\n"
   ]
  },
  {
   "cell_type": "markdown",
   "metadata": {},
   "source": [
    "### 5. **Visualizing the topics**\n",
    "\n",
    "One common way to visualize topics from `LDA` is using a package called `pyLDAvis`"
   ]
  },
  {
   "cell_type": "code",
   "execution_count": null,
   "metadata": {},
   "outputs": [],
   "source": [
    "# Prepare the LDAvis visualization\n",
    "vis = pyLDAvis.sklearn.prepare(lda, X, vectorizer)\n",
    "\n",
    "# Show the visualization\n",
    "pyLDAvis.show(vis)\n"
   ]
  },
  {
   "cell_type": "markdown",
   "metadata": {},
   "source": [
    "This will create an interactive visualization where each bubble represents a topic. The size of the bubble represents the prevalence of the topic, and the distance between bubbles represents the similarity between topics.\n"
   ]
  },
  {
   "cell_type": "markdown",
   "metadata": {},
   "source": [
    "## Sentiment Analysis"
   ]
  },
  {
   "cell_type": "markdown",
   "metadata": {},
   "source": [
    "Sentiment analysis, or opinion mining, is a sub-field of Natural Language Processing (NLP) that tries to identify and extract opinions within a given text. The aim is to determine the attitude of a speaker, writer, or other subject with respect to some topic or the overall contextual polarity of a document.\n",
    "\n",
    "There are several Python libraries that can be used to perform sentiment analysis, such as TextBlob, Vader, etc. "
   ]
  },
  {
   "cell_type": "markdown",
   "metadata": {},
   "source": [
    "#### example using TextBlob.\n",
    "\n",
    "TextBlob is a Python library for processing textual data. It provides a simple API for diving into common natural language processing tasks such as part-of-speech tagging, noun phrase extraction, and sentiment analysis.\n",
    "\n",
    "First, let's install TextBlob"
   ]
  },
  {
   "cell_type": "code",
   "execution_count": null,
   "metadata": {},
   "outputs": [],
   "source": [
    "%pip install textblob"
   ]
  },
  {
   "cell_type": "markdown",
   "metadata": {},
   "source": [
    "Then, we can use TextBlob's `sentiment` property to get the polarity of each description.\n",
    "The polarity score is a float within the range `[-1.0, 1.0]` where a score:\n",
    "\n",
    "- `< 0` is a negative sentiment\n",
    "- `> 0` is a positive sentiment\n",
    "- `0` is neutral"
   ]
  },
  {
   "cell_type": "code",
   "execution_count": null,
   "metadata": {},
   "outputs": [],
   "source": [
    "# Get the polarity of each description\n",
    "data['sentiment'] = data['description'].apply(lambda x: TextBlob(x).sentiment.polarity)\n",
    "\n",
    "# Print the average sentiment\n",
    "print(data['sentiment'].mean())\n"
   ]
  },
  {
   "cell_type": "markdown",
   "metadata": {},
   "source": [
    "This will give you the average sentiment of all the room descriptions. If you want to analyze the sentiment further, you could look at the distribution of the sentiment scores or compare the sentiment across different types of rooms.\n",
    "\n",
    "**NOTE**: sentiment analysis can be complex and depends on many factors, such as the language and context of the text. These results should be used as an initial analysis and not the final conclusion."
   ]
  },
  {
   "cell_type": "markdown",
   "metadata": {},
   "source": [
    "---"
   ]
  },
  {
   "cell_type": "markdown",
   "metadata": {},
   "source": [
    "\n",
    "We can expand on the sentiment analysis by looking at the distribution of sentiment scores and comparing sentiment across different types of rooms.\n",
    "\n",
    "### 1. **Distribution of Sentiment Scores**: We can use a histogram to visualize the distribution of sentiment scores."
   ]
  },
  {
   "cell_type": "code",
   "execution_count": null,
   "metadata": {},
   "outputs": [],
   "source": [
    "# Plot a histogram of the sentiment scores\n",
    "plt.hist(data['sentiment'], bins=20, color='skyblue')\n",
    "plt.title('Distribution of Sentiment Scores')\n",
    "plt.xlabel('Sentiment Score')\n",
    "plt.ylabel('Frequency')\n",
    "plt.show()"
   ]
  },
  {
   "cell_type": "markdown",
   "metadata": {},
   "source": [
    "This will give you an idea of how positive or negative the room descriptions are overall."
   ]
  },
  {
   "cell_type": "markdown",
   "metadata": {},
   "source": [
    "### 2. **Sentiment by Room Type**\n",
    "\n",
    "We can group the data by room type and compute the average sentiment score for each type."
   ]
  },
  {
   "cell_type": "code",
   "execution_count": null,
   "metadata": {},
   "outputs": [],
   "source": [
    "# Compute average sentiment by room type\n",
    "sentiment_by_type = data.groupby('type')['sentiment'].mean()\n",
    "\n",
    "# Plot average sentiment by room type\n",
    "sentiment_by_type.plot(kind='bar', color='skyblue')\n",
    "plt.title('Average Sentiment by Room Type')\n",
    "plt.xlabel('Room Type')\n",
    "plt.ylabel('Average Sentiment')\n",
    "plt.show()\n"
   ]
  },
  {
   "cell_type": "markdown",
   "metadata": {},
   "source": [
    "This will show you if certain types of rooms have more positive or negative descriptions than others.\n",
    "\n",
    "These are just a couple of ways you can analyze the sentiment data. Depending on your specific goals, there may be other analyses that would be useful as well."
   ]
  },
  {
   "cell_type": "markdown",
   "metadata": {},
   "source": [
    "## Statistical Tests"
   ]
  },
  {
   "cell_type": "markdown",
   "metadata": {},
   "source": [
    "### 1. **Chi-Square Test of Independence**\n",
    "\n",
    "This test is used to determine if there is a significant association between two categorical variables. For this, we need two categorical variables. Let's use '`type`' and '`difficulty`' for this test."
   ]
  },
  {
   "cell_type": "code",
   "execution_count": null,
   "metadata": {},
   "outputs": [],
   "source": [
    "from scipy.stats import chi2_contingency\n",
    "\n",
    "# Create a contingency table\n",
    "contingency_table = pd.crosstab(data['type'], data['difficulty'])\n",
    "\n",
    "# Perform the Chi-square test\n",
    "chi2, p_value, _, _ = chi2_contingency(contingency_table)\n",
    "\n",
    "print('Chi-square statistic:', chi2)\n",
    "print('p-value:', p_value)\n"
   ]
  },
  {
   "cell_type": "markdown",
   "metadata": {},
   "source": [
    "A `p-value` less than `0.05` indicates that there is a significant association between the two variables."
   ]
  },
  {
   "cell_type": "markdown",
   "metadata": {},
   "source": [
    "### 2. **Regression Analysis**\n",
    "\n",
    "Regression analysis is used to understand the relationship between a *dependent* variable and one or more *independent* variables. For this, we need numeric variables. Let's use '`upVotes`' as the dependent variable and '`users`' as the independent variable.\n"
   ]
  },
  {
   "cell_type": "code",
   "execution_count": null,
   "metadata": {},
   "outputs": [],
   "source": [
    "import statsmodels.api as sm\n",
    "\n",
    "# Add a constant to the independent variable\n",
    "X = sm.add_constant(data['users'])\n",
    "\n",
    "# Define the dependent variable\n",
    "y = data['upVotes']\n",
    "\n",
    "# Fit the model\n",
    "model = sm.OLS(y, X)\n",
    "results = model.fit()\n",
    "\n",
    "# Print the summary statistics of the regression model\n",
    "print(results.summary())\n"
   ]
  },
  {
   "cell_type": "markdown",
   "metadata": {},
   "source": [
    "The coefficient for '`users`' tells you how much '`upVotes`' changes for each one-unit increase in '`users`', assuming all other variables are held constant.\n",
    "\n",
    "The *p-value* for '`users`' tells you whether this coefficient is statistically significant. \n",
    "\n",
    "A *p-value* *less than* `0.05` indicates that '`users`' is a **significant** predictor of '`upVotes`'.\n",
    "\n"
   ]
  },
  {
   "cell_type": "markdown",
   "metadata": {},
   "source": [
    "[NOTE][^1]\n",
    "\n",
    "\n",
    "[^1]: **NOTE**: the regression analysis assumes that the residuals (the difference between the observed and predicted values) are normally distributed and have constant variance, and that there is no multicollinearity (high correlation between independent variables). It would be good to check these assumptions if you are using regression analysis for inferential purposes."
   ]
  }
 ],
 "metadata": {
  "kernelspec": {
   "display_name": "Python 3",
   "language": "python",
   "name": "python3"
  },
  "language_info": {
   "codemirror_mode": {
    "name": "ipython",
    "version": 3
   },
   "file_extension": ".py",
   "mimetype": "text/x-python",
   "name": "python",
   "nbconvert_exporter": "python",
   "pygments_lexer": "ipython3",
   "version": "3.11.4"
  },
  "orig_nbformat": 4
 },
 "nbformat": 4,
 "nbformat_minor": 2
}

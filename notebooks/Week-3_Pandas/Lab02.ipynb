{
 "cells": [
  {
   "cell_type": "markdown",
   "metadata": {},
   "source": [
    "# Lab 2: Intermediate Python for Data Science"
   ]
  },
  {
   "cell_type": "markdown",
   "metadata": {},
   "source": []
  },
  {
   "cell_type": "markdown",
   "metadata": {},
   "source": [
    "---\n",
    "**Section 1: Lists, Dictionaries, and Other Data Structures**\n",
    "\n",
    "**1.1 Lists**\n",
    "\n",
    "```python\n",
    "# Defining a list\n",
    "my_list = [1, 2, 3, 4, 5]\n",
    "print(my_list)\n",
    "\n",
    "# List slicing\n",
    "print(my_list[1:3])\n",
    "\n",
    "# Modifying a list\n",
    "my_list[0] = 10\n",
    "print(my_list)\n",
    "\n",
    "# List comprehension\n",
    "squared_list = [x**2 for x in my_list]\n",
    "print(squared_list)\n",
    "```\n",
    "\n",
    "**1.2 Dictionaries**\n",
    "\n",
    "```python\n",
    "# Defining a dictionary\n",
    "my_dict = {'Apple': 1, 'Banana': 2, 'Cherry': 3}\n",
    "print(my_dict)\n",
    "\n",
    "# Accessing elements in a dictionary\n",
    "print(my_dict['Apple'])\n",
    "\n",
    "# Modifying a dictionary\n",
    "my_dict['Apple'] = 10\n",
    "print(my_dict)\n",
    "\n",
    "# Dictionary comprehension\n",
    "squared_dict = {key: value**2 for (key, value) in my_dict.items()}\n",
    "print(squared_dict)\n",
    "```\n",
    "\n",
    "---\n",
    "\n",
    "**Section 2: Loops and List Comprehensions**\n",
    "\n",
    "**2.1 For Loop with Lists**\n",
    "\n",
    "```python\n",
    "# Simple For Loop\n",
    "fruits = ['apple', 'banana', 'cherry']\n",
    "for fruit in fruits:\n",
    "    print(fruit)\n",
    "```\n",
    "\n",
    "**2.2 List Comprehensions**\n",
    "\n",
    "```python\n",
    "# List comprehension to create a new list\n",
    "squared_numbers = [num ** 2 for num in range(10)]\n",
    "print(squared_numbers)\n",
    "```\n",
    "\n",
    "---\n",
    "\n",
    "**Section 3: Functions and Lambda Functions**\n",
    "\n",
    "**3.1 Defining a Function**\n",
    "\n",
    "```python\n",
    "# Function to calculate the square of a number\n",
    "def square(num):\n",
    "    return num ** 2\n",
    "\n",
    "print(square(10))\n",
    "```\n",
    "\n",
    "**3.2 Lambda Functions**\n",
    "\n",
    "```python\n",
    "# Lambda function to calculate the square of a number\n",
    "square = lambda num: num ** 2\n",
    "\n",
    "print(square(10))\n",
    "```\n",
    "\n",
    "---\n"
   ]
  },
  {
   "cell_type": "code",
   "execution_count": null,
   "metadata": {},
   "outputs": [],
   "source": [
    "**Section 4: Error Handling**\n",
    "\n",
    "```python\n",
    "# Try-Except block\n",
    "try:\n",
    "    print(5/0)\n",
    "except ZeroDivisionError:\n",
    "    print(\"You can't divide by zero!\")\n",
    "\n",
    "# Try-Except-Else block\n",
    "try:\n",
    "    print(5/2)\n",
    "except ZeroDivisionError:\n",
    "    print(\"You can't divide by zero!\")\n",
    "else:\n",
    "    print(\"No errors encountered!\")\n"
   ]
  },
  {
   "cell_type": "markdown",
   "metadata": {
    "tags": [
     "Section 1"
    ]
   },
   "source": [
    "## Lists, Dictionaries, and Other Data Structures\n"
   ]
  },
  {
   "cell_type": "code",
   "execution_count": null,
   "metadata": {},
   "outputs": [],
   "source": []
  },
  {
   "cell_type": "markdown",
   "metadata": {
    "tags": [
     "Section 2"
    ]
   },
   "source": [
    "## Loops and List Comprehensions\n"
   ]
  },
  {
   "cell_type": "code",
   "execution_count": null,
   "metadata": {},
   "outputs": [],
   "source": []
  },
  {
   "cell_type": "markdown",
   "metadata": {
    "tags": [
     "Section 3"
    ]
   },
   "source": [
    "## Functions and Lambda Functions\n"
   ]
  },
  {
   "cell_type": "code",
   "execution_count": null,
   "metadata": {},
   "outputs": [],
   "source": []
  },
  {
   "cell_type": "markdown",
   "metadata": {
    "tags": [
     "Section 4"
    ]
   },
   "source": [
    "## Error Handling\n"
   ]
  },
  {
   "cell_type": "code",
   "execution_count": null,
   "metadata": {},
   "outputs": [],
   "source": []
  },
  {
   "cell_type": "markdown",
   "metadata": {
    "tags": [
     "Section 5"
    ]
   },
   "source": [
    "## Exercises: Intermediate Python problems\n"
   ]
  },
  {
   "cell_type": "code",
   "execution_count": null,
   "metadata": {},
   "outputs": [],
   "source": []
  },
  {
   "cell_type": "markdown",
   "metadata": {},
   "source": [
    "---\n",
    "\n",
    "**Section 5: Exercises**\n",
    "\n",
    "_[This would be a text cell outlining the exercises that the students should complete to test their understanding of the topics covered in the lab.]_\n",
    "\n",
    "---\n",
    "\n",
    "**Section 6: Summary and Q&A**\n",
    "\n",
    "_[A text cell summarizing the lab and outlining the topics for the next lab. This section could also encourage students to write down their questions or thoughts about the material.]_\n",
    "\n",
    "This lab covers more complex Python concepts that are critical for data manipulation and analysis in data science. As with the previous lab, provide clear explanations for each section and code block to help your students understand these concepts."
   ]
  }
 ],
 "metadata": {
  "language_info": {
   "name": "python"
  },
  "orig_nbformat": 4
 },
 "nbformat": 4,
 "nbformat_minor": 2
}

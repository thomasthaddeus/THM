{
 "cells": [
  {
   "cell_type": "markdown",
   "metadata": {},
   "source": [
    "# Lab 1: Introduction to Python for Data Science"
   ]
  },
  {
   "cell_type": "markdown",
   "metadata": {},
   "source": []
  },
  {
   "cell_type": "code",
   "execution_count": null,
   "metadata": {},
   "outputs": [],
   "source": [
    "import numpy as np\n",
    "import matplotlib.pyplot as plt"
   ]
  },
  {
   "cell_type": "markdown",
   "metadata": {},
   "source": [
    "## Section 1: Why Python for Data Science?\n",
    "\n",
    "- Brief discussion on the importance of data science\n",
    "- Introduction to Python and its rise in the data science community\n",
    "- The benefits of Python for data science: readability, wide usage, strong community, rich library ecosystem\n"
   ]
  },
  {
   "cell_type": "code",
   "execution_count": null,
   "metadata": {},
   "outputs": [],
   "source": []
  },
  {
   "cell_type": "markdown",
   "metadata": {},
   "source": [
    "## Section 2: Python Basics\n",
    "\n",
    "### 2.1 Data Types and Variables\n",
    "\n",
    "- Explanation and examples of basic data types: Integers, Floats, Strings, Booleans\n",
    "- Understanding variables and how to use them"
   ]
  },
  {
   "cell_type": "code",
   "execution_count": null,
   "metadata": {},
   "outputs": [],
   "source": [
    "# Integer\n",
    "x = 5\n",
    "print(type(x))\n",
    "\n",
    "# Float\n",
    "y = 0.5\n",
    "print(type(y))\n",
    "\n",
    "# String\n",
    "s = \"Hello, World!\"\n",
    "print(type(s))\n",
    "\n",
    "# Boolean\n",
    "b = True\n",
    "print(type(b))\n"
   ]
  },
  {
   "cell_type": "markdown",
   "metadata": {},
   "source": [
    "### 2.2 Control Structures\n",
    "\n",
    "- If-else statements - Understanding conditional logic\n",
    "- While loops - Explanation and examples\n",
    "- For loops - Explanation and examples\n",
    "- Break, Continue, and Pass statements\n"
   ]
  },
  {
   "cell_type": "code",
   "execution_count": null,
   "metadata": {},
   "outputs": [],
   "source": [
    "# If-Else Statement\n",
    "x = 5\n",
    "if x < 10:\n",
    "    print(\"Less than 10\")\n",
    "else:\n",
    "    print(\"Greater than or equal to 10\")\n"
   ]
  },
  {
   "cell_type": "code",
   "execution_count": null,
   "metadata": {},
   "outputs": [],
   "source": [
    "# While Loop\n",
    "i = 0\n",
    "while i < 5:\n",
    "    print(i)\n",
    "    i += 1\n"
   ]
  },
  {
   "cell_type": "code",
   "execution_count": null,
   "metadata": {},
   "outputs": [],
   "source": [
    "# For Loop\n",
    "for i in range(5):\n",
    "    print(i)\n"
   ]
  },
  {
   "cell_type": "code",
   "execution_count": null,
   "metadata": {},
   "outputs": [],
   "source": [
    "# Break and Continue\n",
    "for i in range(10):\n",
    "    if i == 2:\n",
    "        continue\n",
    "    elif i == 7:\n",
    "        break\n",
    "    print(i)\n"
   ]
  },
  {
   "cell_type": "markdown",
   "metadata": {},
   "source": [
    "## Section 3: Introduction to Libraries\n",
    "\n",
    "### 3.1 NumPy\n",
    "\n",
    "- What is NumPy and why is it useful?\n",
    "- Creating NumPy arrays\n",
    "- Basic array operations (addition, subtraction, multiplication, etc.)\n",
    "- Mathematical functions (sin, cos, exp, log, etc.)\n",
    "- Indexing, slicing, and iterating\n",
    "\n"
   ]
  },
  {
   "cell_type": "code",
   "execution_count": null,
   "metadata": {},
   "outputs": [],
   "source": [
    "# Creating a NumPy array\n",
    "arr = np.array([1, 2, 3, 4, 5])\n",
    "print(arr)\n"
   ]
  },
  {
   "cell_type": "code",
   "execution_count": null,
   "metadata": {},
   "outputs": [],
   "source": [
    "# Basic Array Operations\n",
    "print(arr + 2)\n",
    "print(arr * 2)\n"
   ]
  },
  {
   "cell_type": "code",
   "execution_count": null,
   "metadata": {},
   "outputs": [],
   "source": [
    "# Mathematical Functions\n",
    "print(np.sin(arr))\n"
   ]
  },
  {
   "cell_type": "code",
   "execution_count": null,
   "metadata": {},
   "outputs": [],
   "source": [
    "# Indexing, Slicing and Iterating\n",
    "print(arr[0:2])\n"
   ]
  },
  {
   "cell_type": "markdown",
   "metadata": {},
   "source": [
    "### 3.2 Matplotlib\n",
    "\n",
    "- What is Matplotlib and why is it useful?\n",
    "- Simple line plots\n",
    "- Scatter plots\n",
    "- Bar plots and histograms\n",
    "- Customizing plots: labels, legends, colors, etc.\n"
   ]
  },
  {
   "cell_type": "code",
   "execution_count": null,
   "metadata": {},
   "outputs": [],
   "source": [
    "# Line plot\n",
    "plt.plot(arr, np.sin(arr))\n",
    "plt.title(\"Line plot of sin(x)\")\n",
    "plt.xlabel(\"x\")\n",
    "plt.ylabel(\"sin(x)\")\n",
    "plt.show()\n"
   ]
  },
  {
   "cell_type": "code",
   "execution_count": null,
   "metadata": {},
   "outputs": [],
   "source": [
    "# Scatter plot\n",
    "plt.scatter(arr, np.sin(arr))\n",
    "plt.title(\"Scatter plot of sin(x)\")\n",
    "plt.xlabel(\"x\")\n",
    "plt.ylabel(\"sin(x)\")\n",
    "plt.show()\n"
   ]
  },
  {
   "cell_type": "markdown",
   "metadata": {},
   "source": [
    "## Section 4: Exercises\n",
    "\n",
    "### Basic Python problems\n",
    "\n",
    "\n",
    "[Here, you could include a text cell that outlines the exercises the students should complete, or include code cells with \"TODO\" comments where students can write their code. The exercises should test the students' understanding of the material covered in the lab.]"
   ]
  },
  {
   "cell_type": "code",
   "execution_count": null,
   "metadata": {
    "vscode": {
     "languageId": "plaintext"
    }
   },
   "outputs": [],
   "source": []
  },
  {
   "cell_type": "markdown",
   "metadata": {},
   "source": [
    "## Section 5: Summary and Q&A\n",
    "\n",
    "[Finally, you could include a text cell summarizing the lab and outlining the topics for the next lab. You can also encourage students to write down their questions or thoughts about the material in this section.]\n",
    "\n",
    "Remember to provide explanations for each block of code and the expected outputs. This will not only help students understand what the code is doing, but also give them an understanding of why they're doing it and how it fits into the larger context of data science."
   ]
  }
 ],
 "metadata": {
  "language_info": {
   "name": "python"
  },
  "orig_nbformat": 4
 },
 "nbformat": 4,
 "nbformat_minor": 2
}
